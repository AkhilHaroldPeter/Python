{
 "cells": [
  {
   "cell_type": "markdown",
   "id": "67d5aa44",
   "metadata": {},
   "source": [
    "# To run the below code,please visit this link : https://notebooks.gesis.org/binder/jupyter/user/akhilharoldpeter-python-projects-zp4p34of/lab/workspaces/auto-m/tree/Project4-Hangman/Project4-Hangman.ipynb"
   ]
  },
  {
   "cell_type": "code",
   "execution_count": null,
   "id": "6c0f67fe",
   "metadata": {},
   "outputs": [],
   "source": [
    "#pip install -r Requirements.txt"
   ]
  },
  {
   "cell_type": "code",
   "execution_count": null,
   "id": "54a4b86b",
   "metadata": {},
   "outputs": [],
   "source": [
    "import random\n",
    "import pandas as pd\n",
    "from art import *\n",
    "from mal import Anime\n",
    "import pycountry\n",
    "from os import system, name\n",
    "import os\n",
    "import sys\n",
    "from random_words import RandomWords\n",
    "from hangman_ascii_art import *\n",
    "\n",
    "df = pd.read_csv(os.getcwd()+\"/anime_subset.csv\") # The Data provided is from kaggle. Link :https://www.kaggle.com/datasets/marlesson/myanimelist-dataset-animes-profiles-reviews?select=animes.csv\n",
    "#Note: The above data has been filtered for NSFW content.\n",
    "title_list=[x for x in df['title']]\n",
    "\n",
    "game_over = False\n",
    "while not game_over:\n",
    "    live_remaining = 6\n",
    "    random_word=\"\"\n",
    "    print(logo)\n",
    "    choice = input(f\"Please select from the given choices:\\n1.Select '1' for Random Word\\n2.Select '2' for Anime names \\n3.Select '3' for 'Country' \")\n",
    "    if choice.isdigit() and int(choice)==1:\n",
    "        rw = RandomWords()\n",
    "        random_word = rw.random_word()\n",
    "    elif choice.isdigit() and int(choice)==2:\n",
    "        # anime = Anime(random.randint(1,1000))\n",
    "        # random_word = str(anime.title).lower()\n",
    "        random_word = str(random.choice(title_list).lower())\n",
    "    elif choice.isdigit() and int(choice)==3:\n",
    "        countries = list(pycountry.countries)\n",
    "        country_names = [country.name for country in countries]\n",
    "        random_word=str(random.choice(country_names)).lower()\n",
    "    else:\n",
    "        sys.exit(f'The provided input \"{choice}\" is invalid.Please type from the provided values!')\n",
    "    \n",
    "##    print(random_word)\n",
    "    display = []\n",
    "    for _ in random_word:\n",
    "        display.append(\"_\")\n",
    "    guessed_list=[]\n",
    "    while \"_\" in display and live_remaining!=0:\n",
    "        guessed_letter = input(\"Guess a letter : \").lower()\n",
    "        if guessed_letter in guessed_list:\n",
    "            print(f\"You've already guessed '{guessed_letter}'\")\n",
    "        for letter in range(len(random_word)):\n",
    "            if guessed_letter == random_word[letter]:\n",
    "                display[letter] = guessed_letter\n",
    "                guessed_list.append(guessed_letter)\n",
    "        if guessed_letter not in random_word and guessed_letter not in guessed_list:\n",
    "            print(f\"You've guessed '{guessed_letter}',that's not in the word.You lose a life!\")\n",
    "            live_remaining-=1\n",
    "            print(stages[live_remaining])\n",
    "            guessed_list.append(guessed_letter)\n",
    "\n",
    "        print(' '.join(display))\n",
    "        print(f\"guessed letters : {(',').join(guessed_list)}\")\n",
    "        print(f\"guesses left : {live_remaining}\")\n",
    "        print('-'*50)\n",
    "        #clear_terminal()#uncomment this code to clear screen in jupyter notebook\n",
    "\n",
    "    if '_' not in display:\n",
    "        print(text2art(\"YOU WON!\",font=\"small\"))\n",
    "    else:\n",
    "        print(text2art(\"YOU LOST!\",font='small'))\n",
    "    choice = input('Do you want to continue: \"y\" for Yes and \"n\" for No :').lower()\n",
    "    if choice=='y':\n",
    "        pass\n",
    "    elif choice=='n':\n",
    "        game_over=True\n",
    "        print(text2art(\"GAME OVER!\",font='small'))\n",
    "        # sys.exit()\n",
    "    else:\n",
    "        sys.exit(f'The provide value {choice} is not valid')\n",
    "from IPython.display import clear_output\n",
    "clear_output(wait=True)"
   ]
  },
  {
   "cell_type": "code",
   "execution_count": null,
   "id": "d0e1d33d",
   "metadata": {},
   "outputs": [],
   "source": []
  }
 ],
 "metadata": {
  "kernelspec": {
   "display_name": "Python 3 (ipykernel)",
   "language": "python",
   "name": "python3"
  },
  "language_info": {
   "codemirror_mode": {
    "name": "ipython",
    "version": 3
   },
   "file_extension": ".py",
   "mimetype": "text/x-python",
   "name": "python",
   "nbconvert_exporter": "python",
   "pygments_lexer": "ipython3",
   "version": "3.9.12"
  }
 },
 "nbformat": 4,
 "nbformat_minor": 5
}
