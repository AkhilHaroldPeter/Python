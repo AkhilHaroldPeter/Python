{
 "cells": [
  {
   "cell_type": "markdown",
   "id": "2a0fa2d7-7753-441e-a7a3-2ed339c101a9",
   "metadata": {},
   "source": [
    "# My Jupyter Notebook on IBM Watson Studio"
   ]
  },
  {
   "cell_type": "markdown",
   "id": "e6d9e78b-43e8-4bf8-b1d2-fd7b4fe61a69",
   "metadata": {},
   "source": [
    "### NAME : AKHIL HAROLD PETER\n",
    "### DESIRED OCCUPATION : ML ENGINEER/DATA SCIENTIST"
   ]
  },
  {
   "cell_type": "markdown",
   "id": "427ef86a-39c9-4db2-8c32-218e92938a6b",
   "metadata": {},
   "source": [
    "*I am interested in data science because i would like to explore its quirks in healthcare and IT industry*"
   ]
  },
  {
   "cell_type": "markdown",
   "id": "0e7f8cca-17ff-4abb-9548-e7d0d7532970",
   "metadata": {},
   "source": [
    "*The code snippet below will display hello world*"
   ]
  },
  {
   "cell_type": "code",
   "execution_count": 3,
   "id": "6edfda2a-7b63-4e75-ac98-e1144c735569",
   "metadata": {},
   "outputs": [
    {
     "name": "stdout",
     "output_type": "stream",
     "text": [
      "Hello World!\n"
     ]
    }
   ],
   "source": [
    "print(\"Hello World!\")"
   ]
  },
  {
   "cell_type": "markdown",
   "id": "4300b78f-af3a-44ac-8b17-eec8510e4e4b",
   "metadata": {},
   "source": [
    "***"
   ]
  },
  {
   "cell_type": "markdown",
   "id": "d998e00e-0264-429a-8deb-b4e0c1612d1e",
   "metadata": {},
   "source": [
    "+ **This was a fun exercise.**"
   ]
  },
  {
   "cell_type": "code",
   "execution_count": null,
   "id": "7121b244-338e-4d39-a5d9-771dc39e939d",
   "metadata": {},
   "outputs": [],
   "source": []
  }
 ],
 "metadata": {
  "kernelspec": {
   "display_name": "Python",
   "language": "python",
   "name": "conda-env-python-py"
  },
  "language_info": {
   "codemirror_mode": {
    "name": "ipython",
    "version": 3
   },
   "file_extension": ".py",
   "mimetype": "text/x-python",
   "name": "python",
   "nbconvert_exporter": "python",
   "pygments_lexer": "ipython3",
   "version": "3.7.12"
  }
 },
 "nbformat": 4,
 "nbformat_minor": 5
}
